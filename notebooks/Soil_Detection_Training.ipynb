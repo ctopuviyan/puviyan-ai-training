{
  "nbformat": 4,
  "nbformat_minor": 0,
  "metadata": {
    "colab": {
      "provenance": [],
      "gpuType": "T4"
    },
    "kernelspec": {
      "name": "python3",
      "display_name": "Python 3"
    },
    "language_info": {
      "name": "python"
    },
    "accelerator": "GPU"
  },
  "cells": [
    {
      "cell_type": "markdown",
      "source": [
        "# 🌱 Puviyan Soil Detection Model Training\n",
        "\n",
        "This notebook trains a TensorFlow Lite model for Indian soil type classification.\n",
        "\n",
        "## 🎯 Soil Types:\n",
        "- Alluvial Soil\n",
        "- Black Soil\n",
        "- Red Soil\n",
        "- Laterite Soil\n",
        "- Desert Soil\n",
        "- Saline/Alkaline Soil\n",
        "- Peaty/Marshy Soil\n",
        "- Forest/Hill Soil"
      ],
      "metadata": {
        "id": "soil_detection_title"
      }
    },
    {
      "cell_type": "markdown",
      "source": [
        "## 🚀 Setup Environment"
      ],
      "metadata": {
        "id": "setup_title"
      }
    },
    {
      "cell_type": "code",
      "source": [
        "# Check GPU availability\n",
        "import tensorflow as tf\n",
        "print(\"TensorFlow version:\", tf.__version__)\n",
        "print(\"GPU Available:\", tf.config.list_physical_devices('GPU'))\n",
        "print(\"GPU Details:\", tf.test.gpu_device_name())"
      ],
      "metadata": {
        "id": "check_gpu"
      },
      "execution_count": null,
      "outputs": []
    },
    {
      "cell_type": "code",
      "source": [
        "# Install additional dependencies if needed\n",
        "!pip install matplotlib scikit-learn"
      ],
      "metadata": {
        "id": "install_deps"
      },
      "execution_count": null,
      "outputs": []
    },
    {
      "cell_type": "markdown",
      "source": [
        "## 📁 Upload Training Script"
      ],
      "metadata": {
        "id": "upload_title"
      }
    },
    {
      "cell_type": "code",
      "source": [
        "# Upload the training script from your local machine\n",
        "from google.colab import files\n",
        "\n",
        "print(\"📤 Upload train_soil_classifier.py from your computer:\")\n",
        "uploaded = files.upload()\n",
        "\n",
        "# List uploaded files\n",
        "import os\n",
        "print(\"\\n📁 Uploaded files:\")\n",
        "for filename in uploaded.keys():\n",
        "    print(f\"  ✅ {filename} ({len(uploaded[filename])} bytes)\")"
      ],
      "metadata": {
        "id": "upload_script"
      },
      "execution_count": null,
      "outputs": []
    },
    {
      "cell_type": "markdown",
      "source": [
        "## 🎯 Run Training"
      ],
      "metadata": {
        "id": "training_title"
      }
    },
    {
      "cell_type": "code",
      "source": [
        "# Run the training script\n",
        "print(\"🚀 Starting soil detection model training...\")\n",
        "print(\"⏱️ This will take 2-4 hours with GPU acceleration\")\n",
        "print(\"\\n\" + \"=\"*50)\n",
        "\n",
        "!python train_soil_classifier.py"
      ],
      "metadata": {
        "id": "run_training"
      },
      "execution_count": null,
      "outputs": []
    },
    {
      "cell_type": "markdown",
      "source": [
        "## 📊 View Training Results"
      ],
      "metadata": {
        "id": "results_title"
      }
    },
    {
      "cell_type": "code",
      "source": [
        "# Display training plots if generated\n",
        "import matplotlib.pyplot as plt\n",
        "import os\n",
        "\n",
        "# Check for generated plots\n",
        "plot_files = [f for f in os.listdir('.') if f.endswith('.png')]\n",
        "\n",
        "if plot_files:\n",
        "    print(\"📊 Training Results:\")\n",
        "    for plot_file in plot_files:\n",
        "        print(f\"\\n📈 {plot_file}:\")\n",
        "        img = plt.imread(plot_file)\n",
        "        plt.figure(figsize=(10, 6))\n",
        "        plt.imshow(img)\n",
        "        plt.axis('off')\n",
        "        plt.title(plot_file)\n",
        "        plt.show()\nelse:\n",
        "    print(\"No training plots found.\")"
      ],
      "metadata": {
        "id": "view_results"
      },
      "execution_count": null,
      "outputs": []
    },
    {
      "cell_type": "markdown",
      "source": [
        "## 📥 Download Trained Model"
      ],
      "metadata": {
        "id": "download_title"
      }
    },
    {
      "cell_type": "code",
      "source": [
        "# List generated files\n",
        "import os\n",
        "from google.colab import files\n",
        "\n",
        "print(\"📁 Generated files:\")\n",
        "for file in os.listdir('.'):\n",
        "    if file.endswith(('.tflite', '.json', '.png', '.txt')):\n",
        "        size = os.path.getsize(file) / (1024*1024)  # MB\n",
        "        print(f\"  📄 {file} ({size:.1f} MB)\")\n",
        "\n",
        "print(\"\\n📥 Downloading trained model...\")\n",
        "\n",
        "# Download the main model file\n",
        "model_files = [f for f in os.listdir('.') if f.endswith('.tflite')]\n",
        "if model_files:\n",
        "    for model_file in model_files:\n",
        "        print(f\"⬇️ Downloading {model_file}...\")\n",
        "        files.download(model_file)\nelse:\n",
        "    print(\"❌ No .tflite model found!\")\n",
        "\n",
        "# Download model info if available\n",
        "info_files = [f for f in os.listdir('.') if f.endswith('_info.json')]\n",
        "if info_files:\n",
        "    for info_file in info_files:\n",
        "        print(f\"⬇️ Downloading {info_file}...\")\n",
        "        files.download(info_file)"
      ],
      "metadata": {
        "id": "download_model"
      },
      "execution_count": null,
      "outputs": []
    },
    {
      "cell_type": "markdown",
      "source": [
        "## 🎯 Next Steps\n",
        "\n",
        "1. **📱 Deploy to Mobile App**: Copy the downloaded `.tflite` file to your Flutter app's `assets/models/` folder\n",
        "\n",
        "2. **🔧 Enable TensorFlow Lite**: Uncomment the TensorFlow Lite dependency in your Flutter app's `pubspec.yaml`\n",
        "\n",
        "3. **🧪 Test the Model**: Use the soil detection demo in your Flutter app to test the trained model\n",
        "\n",
        "4. **📊 Monitor Performance**: Check accuracy and inference time on real soil images\n",
        "\n",
        "5. **🔄 Iterate**: Collect more data and retrain if needed for better accuracy"
      ],
      "metadata": {
        "id": "next_steps"
      }
    }
  ]
}
