{
 "cells": [
  {
   "cell_type": "markdown",
   "metadata": {
    "id": "soil_detection_title"
   },
   "source": [
    "# 🌱 Puviyan Soil Detection Model Training v5.0 - Enhanced Model\n",
    "\n",
    "This notebook trains an **enhanced Flutter-compatible** TensorFlow Lite model for Indian soil type classification with improved accuracy and performance.\n",
    "\n",
    "## 🚀 NEW v5.0 Features:\n",
    "- **🔥 Enhanced Architecture** with depthwise separable convolutions\n",
    "- **🧠 Better Feature Extraction** for improved accuracy\n",
    "- **⚡ Optimized for Mobile** with TFLite compatibility\n",
    "- **🔄 Advanced Data Augmentation** for better generalization\n",
    "- **📊 Class Balancing** with automatic weight adjustment\n",
    "\n",
    "## 🎯 Indian Soil Types (8 Classes):\n",
    "1. **Alluvial Soil** - Fertile river deposits, ideal for crops\n",
    "2. **Black Soil** - Clay-rich, excellent for cotton cultivation\n",
    "3. **Red Soil** - Iron-rich, good drainage\n",
    "4. **Laterite Soil** - Tropical weathered soil\n",
    "5. **Desert Soil** - Arid conditions, limited agriculture\n",
    "6. **Saline/Alkaline Soil** - High salt content\n",
    "7. **Peaty/Marshy Soil** - Organic-rich, waterlogged\n",
    "8. **Forest/Hill Soil** - Rich humus content\n",
    "\n",
    "## 🚀 Getting Started\n",
    "1. **Runtime** → **Change runtime type** → Select **GPU**\n",
    "2. Click **Runtime** → **Run all** (or press `Ctrl+F9`)\n",
    "3. Follow the prompts to upload your dataset or use synthetic data\n",
    "4. Monitor training progress with TensorBoard\n",
    "5. Download the trained model for Flutter integration"
   ]
  },
  {
   "cell_type": "code",
   "execution_count": null,
   "metadata": {
    "id": "setup_environment"
   },
   "outputs": [],
   "source": [
    "# 🌱 PUVIYAN SOIL DETECTION v5.0 - ENHANCED MODEL\n",
    "print(\"🚀 Initializing Puviyan Soil Detection v5.0 - Enhanced Model\")\n",
    "print(\"=" * 60)\n",
    "\n",
    "# Install required packages\n",
    "!pip install -q tensorflow tensorflow-model-optimization matplotlib numpy tqdm\n",
    "\n",
    "# Import libraries\n",
    "import os\n",
    "import numpy as np\n",
    "import tensorflow as tf\n",
    "from tensorflow import keras\n",
    "from tensorflow.keras import layers\n",
    "import matplotlib.pyplot as plt\n",
    "from tqdm import tqdm\n",
    "import random\n",
    "import time\n",
    "from sklearn.model_selection import train_test_split\n",
    "\n",
    "# Configuration\n",
    "MODEL_NAME = \"soil_classifier_enhanced_v5\"\n",
    "INPUT_SIZE = 224\n",
    "NUM_CLASSES = 8\n",
    "BATCH_SIZE = 32\n",
    "EPOCHS = 100\n",
    "LEARNING_RATE = 0.0005\n",
    "PATIENCE = 15\n",
    "MIN_DELTA = 1e-4\n",
    "\n",
    "# Check GPU availability\n",
    "gpus = tf.config.list_physical_devices('GPU')\n",
    "if gpus:\n",
    "    print(f\"✅ GPU Available: {gpus[0]}\")\n",
    "    tf.config.experimental.set_memory_growth(gpus[0], True)\n",
    "else:\n",
    "    print(\"⚠️ No GPU detected. Training will be slow.\")\n",
    "\n",
    "print(\"\\n📱 Flutter Compatibility Features:\")\n",
    "print(\"   ✅ TFLite built-in operations only\")\n",
    "print(\"   ✅ UINT8 input/output types\")\n",
    "print(\"   ✅ No SELECT_TF_OPS dependencies\")\n",
    "print(\"=" * 60)"
   ]
  },
  {
   "cell_type": "markdown",
   "metadata": {
    "id": "data_loading"
   },
   "source": [
    "## 📥 Data Loading & Preparation"
   ]
  },
  {
   "cell_type": "code",
   "execution_count": null,
   "metadata": {
    "id": "load_dataset"
   },
   "outputs": [],
   "source": [
    "# [Previous data loading code from v4]\n",
    "# ... (to be continued with model architecture, training, and export)"
   ]
  }
 ],
 "metadata": {
  "accelerator": "GPU",
  "colab": {
   "gpuType": "T4",
   "provenance": []
  },
  "kernelspec": {
   "display_name": "Python 3",
   "name": "python3"
  },
  "language_info": {
   "name": "python"
  }
 },
 "nbformat": 4,
 "nbformat_minor": 4
}
