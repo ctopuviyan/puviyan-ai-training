{
  "nbformat": 4,
  "nbformat_minor": 0,
  "metadata": {
    "colab": {
      "provenance": [],
      "gpuType": "T4"
    },
    "kernelspec": {
      "name": "python3",
      "display_name": "Python 3"
    },
    "language_info": {
      "name": "python"
    },
    "accelerator": "GPU"
  },
  "cells": [
    {
      "cell_type": "markdown",
      "source": [
        "# 🌱 Puviyan Soil Detection Model Training v3.0.0\n",
        "\n",
        "This notebook trains a TensorFlow Lite model for Indian soil type classification with **real dataset support**.\n",
        "\n",
        "## 🚀 NEW Features:\n",
        "- **Real soil image dataset upload support**\n",
        "- **Automatic GitHub script download** (no manual upload needed)\n",
        "- **Enhanced accuracy with real-world data**\n",
        "- **Fallback to synthetic data generation**\n",
        "\n",
        "## 🎯 Indian Soil Types (8 Classes):\n",
        "1. **Alluvial Soil** - Fertile river deposits, ideal for crops\n",
        "2. **Black Soil** - Clay-rich, excellent for cotton cultivation\n",
        "3. **Red Soil** - Iron-rich, good drainage, suitable for groundnuts\n",
        "4. **Laterite Soil** - Tropical weathered soil, good for cashews\n",
        "5. **Desert Soil** - Arid conditions, limited agriculture potential\n",
        "6. **Saline/Alkaline Soil** - High salt content, needs soil treatment\n",
        "7. **Peaty/Marshy Soil** - Organic-rich, waterlogged conditions\n",
        "8. **Forest/Hill Soil** - Rich humus content, ideal for plantation crops"
      ],
      "metadata": {
        "id": "soil_detection_title"
      }
    },
    {
      "cell_type": "markdown",
      "source": [
        "## 🚀 Setup Environment"
      ],
      "metadata": {
        "id": "setup_title"
      }
    },
    {
      "cell_type": "code",
      "source": [
        "# 🌱 PUVIYAN SOIL DETECTION TRAINING SETUP v3.0.0\n",
        "print(\"🌱 Puviyan Soil Detection Training Setup v3.0.0\")\n",
        "print(\"=\" * 60)\n",
        "\n",
        "# Check GPU availability\n",
        "import tensorflow as tf\n",
        "print(f\"✅ TensorFlow: {tf.__version__}\")\n",
        "\n",
        "gpus = tf.config.list_physical_devices('GPU')\n",
        "if gpus:\n",
        "    print(f\"✅ GPU Available: {len(gpus)} device(s)\")\n",
        "    for gpu in gpus:\n",
        "        print(f\"   - {gpu}\")\n",
        "else:\n",
        "    print(\"⚠️ No GPU - Enable GPU in Runtime > Change runtime type > GPU\")\n",
        "\n",
        "print(\"=\" * 60)"
      ],
      "metadata": {
        "id": "check_gpu"
      },
      "execution_count": null,
      "outputs": []
    },
    {
      "cell_type": "code",
      "source": [
        "# Install additional dependencies\n",
        "print(\"📦 Installing dependencies...\")\n",
        "!pip install matplotlib scikit-learn pillow -q\n",
        "print(\"✅ Dependencies installed!\")"
      ],
      "metadata": {
        "id": "install_deps"
      },
      "execution_count": null,
      "outputs": []
    },
    {
      "cell_type": "markdown",
      "source": [
        "## 📥 Download Latest Training Script from GitHub"
      ],
      "metadata": {
        "id": "download_title"
      }
    },
    {
      "cell_type": "code",
      "source": [
        "# 🧹 COMPLETE CLEANUP AND FRESH DOWNLOAD (PREVENTS .py.1, .py.2 FILES)\n",
        "import os\n",
        "\n",
        "print(\"🧹 Cleaning up any existing script files...\")\n",
        "\n",
        "# Step 1: Remove ALL versions of the script\n",
        "for file in os.listdir('.'):\n",
        "    if file.startswith('train_soil_classifier.py'):\n",
        "        os.remove(file)\n",
        "        print(f\"🗑️ Removed: {file}\")\n",
        "\n",
        "# Step 2: Download fresh copy with FORCE OVERWRITE\n",
        "print(\"📥 Downloading latest training script from GitHub...\")\n",
        "!wget -O train_soil_classifier.py https://raw.githubusercontent.com/ctopuviyan/puviyan-ai-training/main/scripts/train_soil_classifier.py\n",
        "\n",
        "# Step 3: Verify ONLY ONE file exists\n",
        "print(\"\\n✅ Verification:\")\n",
        "!ls -la train_soil_classifier.py*\n",
        "\n",
        "# Step 4: Check it's the latest version (should show v3.0.0)\n",
        "print(\"\\n🔍 Version check (should show v3.0.0 and real dataset support):\")\n",
        "!head -20 train_soil_classifier.py | grep -E \"(3.0.0|real dataset|Dataset Options)\"\n",
        "\n",
        "print(\"\\n✅ Clean download completed! Ready for training.\")"
      ],
      "metadata": {
        "id": "download_script"
      },
      "execution_count": null,
      "outputs": []
    },
    {
      "cell_type": "markdown",
      "source": [
        "## 🎯 Run Training with Dataset Choice"
      ],
      "metadata": {
        "id": "training_title"
      }
    },
    {
      "cell_type": "code",
      "source": [
        "# 🚀 START SOIL DETECTION MODEL TRAINING\n",
        "print(\"🚀 Starting Puviyan soil detection model training...\")\n",
        "print(\"📊 The script will ask you to choose between:\")\n",
        "print(\"   1. Upload real soil images (ZIP file)\")\n",
        "print(\"   2. Use synthetic dataset generation\")\n",
        "print(\"\\n⏱️ Training time: 10-30 minutes with GPU acceleration\")\n",
        "print(\"\\n\" + \"=\"*60)\n",
        "\n",
        "# Run the training script (will show interactive dataset choice)\n",
        "!python train_soil_classifier.py"
      ],
      "metadata": {
        "id": "run_training"
      },
      "execution_count": null,
      "outputs": []
    },
    {
      "cell_type": "markdown",
      "source": [
        "## 📊 View Training Results"
      ],
      "metadata": {
        "id": "results_title"
      }
    },
    {
      "cell_type": "code",
      "source": [
        "# Display training plots and results\n",
        "import matplotlib.pyplot as plt\n",
        "import os\n",
        "\n",
        "print(\"📊 Training Results Analysis:\")\n",
        "print(\"=\" * 40)\n",
        "\n",
        "# Check for generated plots\n",
        "plot_files = [f for f in os.listdir('.') if f.endswith(('.png', '.jpg'))]\n",
        "\n",
        "if plot_files:\n",
        "    print(f\"📈 Found {len(plot_files)} training plots:\")\n",
        "    for plot_file in plot_files:\n",
        "        print(f\"\\n📊 {plot_file}:\")\n",
        "        try:\n",
        "            img = plt.imread(plot_file)\n",
        "            plt.figure(figsize=(12, 8))\n",
        "            plt.imshow(img)\n",
        "            plt.axis('off')\n",
        "            plt.title(f\"Training Results: {plot_file}\", fontsize=14, fontweight='bold')\n",
        "            plt.tight_layout()\n",
        "            plt.show()\n",
        "        except Exception as e:\n",
        "            print(f\"❌ Error displaying {plot_file}: {e}\")\nelse:\n",
        "    print(\"⚠️ No training plots found. Check if training completed successfully.\")\n",
        "\n",
        "# Show model info if available\n",
        "info_files = [f for f in os.listdir('.') if f.endswith('_info.json')]\n",
        "if info_files:\n",
        "    import json\n",
        "    print(f\"\\n📄 Model Information ({info_files[0]}):\")\n",
        "    with open(info_files[0], 'r') as f:\n",
        "        model_info = json.load(f)\n",
        "        print(f\"   🤖 Model: {model_info.get('model_name', 'Unknown')}\")\n",
        "        print(f\"   📊 Accuracy: {model_info.get('accuracy', 0)*100:.1f}%\")\n",
        "        print(f\"   🏷️ Classes: {model_info.get('num_classes', 0)}\")\n",
        "        print(f\"   📐 Input Size: {model_info.get('input_size', 224)}x{model_info.get('input_size', 224)}\")"
      ],
      "metadata": {
        "id": "view_results"
      },
      "execution_count": null,
      "outputs": []
    },
    {
      "cell_type": "markdown",
      "source": [
        "## 📥 Download Trained Model Files"
      ],
      "metadata": {
        "id": "download_title"
      }
    },
    {
      "cell_type": "code",
      "source": [
        "# List and download all generated files\n",
        "import os\n",
        "from google.colab import files\n",
        "\n",
        "print(\"📁 Generated Training Files:\")\n",
        "print(\"=\" * 40)\n",
        "\n",
        "# Find all relevant files\n",
        "download_files = []\n",
        "for file in os.listdir('.'):\n",
        "    if file.endswith(('.tflite', '.json', '.png', '.jpg', '.txt')):\n",
        "        size = os.path.getsize(file)\n",
        "        size_kb = size / 1024\n",
        "        size_mb = size / (1024*1024)\n",
        "        \n",
        "        if size_mb >= 1:\n",
        "            size_str = f\"{size_mb:.1f} MB\"\n",
        "        else:\n",
        "            size_str = f\"{size_kb:.1f} KB\"\n",
        "            \n",
        "        print(f\"  📄 {file} ({size_str})\")\n",
        "        download_files.append(file)\n",
        "\n",
        "if download_files:\n",
        "    print(f\"\\n📥 Downloading {len(download_files)} files...\")\n",
        "    \n",
        "    # Download each file\n",
        "    for file in download_files:\n",
        "        try:\n",
        "            print(f\"⬇️ Downloading {file}...\")\n",
        "            files.download(file)\n",
        "        except Exception as e:\n",
        "            print(f\"❌ Error downloading {file}: {e}\")\n",
        "    \n",
        "    print(\"\\n✅ All files downloaded successfully!\")\n",
        "    print(\"\\n🎯 Next Steps:\")\n",
        "    print(\"1. 📱 Copy .tflite file to your Flutter app's assets/models/ folder\")\n",
        "    print(\"2. 📄 Copy _info.json file to the same folder\")\n",
        "    print(\"3. 🔧 Enable TensorFlow Lite in your Flutter app\")\n",
        "    print(\"4. 🧪 Test the model using the soil detection demo\")\n",
        "    \nelse:\n",
        "    print(\"❌ No files found! Check if training completed successfully.\")\n",
        "    print(\"\\n🔍 Debug: List all files in current directory:\")\n",
        "    !ls -la"
      ],
      "metadata": {
        "id": "download_model"
      },
      "execution_count": null,
      "outputs": []
    },
    {
      "cell_type": "markdown",
      "source": [
        "## 🔧 Troubleshooting & Updates"
      ],
      "metadata": {
        "id": "troubleshooting_title"
      }
    },
    {
      "cell_type": "code",
      "source": [
        "# 🔧 TROUBLESHOOTING TOOLS\n",
        "\n",
        "print(\"🔧 Puviyan Training Troubleshooting Tools\")\n",
        "print(\"=\" * 50)\n",
        "\n",
        "print(\"\\n1. 🔍 Check Current Script Version:\")\n",
        "!head -10 train_soil_classifier.py | grep -E \"(version|Version|3.0.0)\"\n",
        "\n",
        "print(\"\\n2. 📁 List All Files:\")\n",
        "!ls -la\n",
        "\n",
        "print(\"\\n3. 🧹 Clean Re-download (run if you have issues):\")\n",
        "print(\"# Copy and run this code in a new cell if needed:\")\n",
        "print(\"\"\"import os\n",
        "for f in os.listdir('.'):\n",
        "    if f.startswith('train_soil_classifier.py'):\n",
        "        os.remove(f)\n",
        "!wget -O train_soil_classifier.py https://raw.githubusercontent.com/ctopuviyan/puviyan-ai-training/main/scripts/train_soil_classifier.py\n",
        "!python train_soil_classifier.py\"\"\")\n",
        "\n",
        "print(\"\\n4. 📊 Check GPU Status:\")\n",
        "import tensorflow as tf\n",
        "print(f\"   TensorFlow: {tf.__version__}\")\n",
        "print(f\"   GPU Available: {len(tf.config.list_physical_devices('GPU')) > 0}\")\n",
        "\n",
        "print(\"\\n✅ Troubleshooting complete!\")"
      ],
      "metadata": {
        "id": "troubleshooting"
      },
      "execution_count": null,
      "outputs": []
    },
    {
      "cell_type": "markdown",
      "source": [
        "## 🎯 Next Steps for Mobile Deployment\n",
        "\n",
        "### 📱 **Flutter App Integration:**\n",
        "1. **Copy Model Files**: Move downloaded `.tflite` and `_info.json` to `assets/models/`\n",
        "2. **Enable TensorFlow Lite**: Uncomment `tflite_flutter` in `pubspec.yaml`\n",
        "3. **Test Real AI Model**: Use the \"Test Real AI Model\" button in your app\n",
        "4. **Switch to Real Model**: Toggle from mock to real AI in soil detection demo\n",
        "\n",
        "### 🔄 **Training Improvements:**\n",
        "- **Collect Real Soil Images**: Take photos of different Indian soil types\n",
        "- **Create Dataset ZIP**: Organize images in folders by soil type\n",
        "- **Retrain with Real Data**: Upload your dataset for better accuracy\n",
        "- **Monitor Performance**: Test with field conditions\n",
        "\n",
        "### 📊 **Expected Results:**\n",
        "- **Model Size**: ~200KB (mobile-optimized)\n",
        "- **Inference Time**: ~150ms on mobile devices\n",
        "- **Accuracy**: 85-100% depending on dataset quality\n",
        "- **Soil Types**: 8 Indian soil classifications\n",
        "\n",
        "### 🌱 **Agricultural Impact:**\n",
        "- **Crop Recommendations**: Based on detected soil type\n",
        "- **Fertilizer Guidance**: Soil-specific nutrient advice\n",
        "- **Farming Optimization**: Data-driven agricultural decisions\n",
        "- **Educational Tool**: Learn about Indian soil diversity\n",
        "\n",
        "---\n",
        "\n",
        "**🎉 Congratulations! You've successfully trained an AI model for Indian soil detection! 🇮🇳🌱**"
      ],
      "metadata": {
        "id": "next_steps"
      }
    }
  ]
}
