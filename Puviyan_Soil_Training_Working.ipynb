{
 "cells": [
  {
   "cell_type": "markdown",
   "metadata": {
    "id": "title"
   },
   "source": [
    "# Puviyan Soil Detection Training - Working Version\n",
    "\n",
    "Enhanced model with GPU acceleration and TFLite export.\n",
    "\n",
    "**Instructions:**\n",
    "1. Runtime → Change runtime type → GPU\n",
    "2. Run all cells in order"
   ]
  },
  {
   "cell_type": "code",
   "execution_count": null,
   "metadata": {
    "id": "setup"
   },
   "outputs": [],
   "source": [
    "# Install and import packages\n",
    "!pip install -q tensorflow matplotlib numpy\n",
    "\n",
    "import numpy as np\n",
    "import tensorflow as tf\n",
    "from tensorflow import keras\n",
    "from tensorflow.keras import layers\n",
    "import matplotlib.pyplot as plt\n",
    "from google.colab import files\n",
    "\n",
    "print('TensorFlow version:', tf.__version__)\n",
    "print('GPU available:', len(tf.config.list_physical_devices('GPU')) > 0)"
   ]
  },
  {
   "cell_type": "code",
   "execution_count": null,
   "metadata": {
    "id": "data"
   },
   "outputs": [],
   "source": [
    "# Create synthetic soil data\n",
    "def generate_soil_data(num_samples):\n",
    "    # Generate random soil-like images\n",
    "    X = np.random.randint(50, 200, (num_samples, 224, 224, 3), dtype=np.uint8)\n",
    "    # Add texture\n",
    "    for i in range(num_samples):\n",
    "        noise = np.random.normal(0, 15, X[i].shape)\n",
    "        X[i] = np.clip(X[i] + noise, 0, 255).astype(np.uint8)\n",
    "    \n",
    "    # Generate labels for 8 soil types\n",
    "    y = np.random.randint(0, 8, num_samples)\n",
    "    return X, y\n",
    "\n",
    "# Generate training and validation data\n",
    "print('Generating training data...')\n",
    "X_train, y_train = generate_soil_data(4000)\n",
    "X_val, y_val = generate_soil_data(1000)\n",
    "\n",
    "print(f'Training data shape: {X_train.shape}')\n",
    "print(f'Validation data shape: {X_val.shape}')\n",
    "print(f'Number of classes: {len(np.unique(y_train))}')"
   ]
  },
  {
   "cell_type": "code",
   "execution_count": null,
   "metadata": {
    "id": "model"
   },
   "outputs": [],
   "source": [
    "# Create enhanced soil classification model\n",
    "def create_soil_model():\n",
    "    model = keras.Sequential([\n",
    "        # Input preprocessing\n",
    "        layers.Rescaling(1./255, input_shape=(224, 224, 3)),\n",
    "        \n",
    "        # Data augmentation\n",
    "        layers.RandomFlip('horizontal'),\n",
    "        layers.RandomRotation(0.1),\n",
    "        layers.RandomZoom(0.1),\n",
    "        \n",
    "        # Feature extraction\n",
    "        layers.Conv2D(32, 3, activation='relu', padding='same'),\n",
    "        layers.BatchNormalization(),\n",
    "        layers.MaxPooling2D(2),\n",
    "        \n",
    "        layers.SeparableConv2D(64, 3, activation='relu', padding='same'),\n",
    "        layers.BatchNormalization(),\n",
    "        layers.MaxPooling2D(2),\n",
    "        \n",
    "        layers.SeparableConv2D(128, 3, activation='relu', padding='same'),\n",
    "        layers.BatchNormalization(),\n",
    "        layers.MaxPooling2D(2),\n",
    "        \n",
    "        layers.SeparableConv2D(256, 3, activation='relu', padding='same'),\n",
    "        layers.BatchNormalization(),\n",
    "        layers.GlobalAveragePooling2D(),\n",
    "        \n",
    "        # Classification head\n",
    "        layers.Dense(512, activation='relu'),\n",
    "        layers.Dropout(0.5),\n",
    "        layers.Dense(256, activation='relu'),\n",
    "        layers.Dropout(0.3),\n",
    "        layers.Dense(8, activation='softmax')\n",
    "    ])\n",
    "    \n",
    "    return model\n",
    "\n",
    "# Create and compile model\n",
    "model = create_soil_model()\n",
    "model.compile(\n",
    "    optimizer=keras.optimizers.Adam(learning_rate=0.001),\n",
    "    loss='sparse_categorical_crossentropy',\n",
    "    metrics=['accuracy']\n",
    ")\n",
    "\n",
    "print('Model created successfully!')\n",
    "model.summary()"
   ]
  },
  {
   "cell_type": "code",
   "execution_count": null,
   "metadata": {
    "id": "train"
   },
   "outputs": [],
   "source": [
    "# Train the model\n",
    "print('Starting training...')\n",
    "\n",
    "# Define callbacks\n",
    "callbacks = [\n",
    "    keras.callbacks.EarlyStopping(\n",
    "        monitor='val_accuracy',\n",
    "        patience=5,\n",
    "        restore_best_weights=True\n",
    "    ),\n",
    "    keras.callbacks.ReduceLROnPlateau(\n",
    "        monitor='val_loss',\n",
    "        factor=0.5,\n",
    "        patience=3\n",
    "    )\n",
    "]\n",
    "\n",
    "# Train model\n",
    "history = model.fit(\n",
    "    X_train, y_train,\n",
    "    validation_data=(X_val, y_val),\n",
    "    epochs=30,\n",
    "    batch_size=32,\n",
    "    callbacks=callbacks,\n",
    "    verbose=1\n",
    ")\n",
    "\n",
    "print('Training completed!')"
   ]
  },
  {
   "cell_type": "code",
   "execution_count": null,
   "metadata": {
    "id": "export"
   },
   "outputs": [],
   "source": [
    "# Plot training history\n",
    "plt.figure(figsize=(12, 4))\n",
    "\n",
    "plt.subplot(1, 2, 1)\n",
    "plt.plot(history.history['accuracy'], label='Training')\n",
    "plt.plot(history.history['val_accuracy'], label='Validation')\n",
    "plt.title('Model Accuracy')\n",
    "plt.xlabel('Epoch')\n",
    "plt.ylabel('Accuracy')\n",
    "plt.legend()\n",
    "\n",
    "plt.subplot(1, 2, 2)\n",
    "plt.plot(history.history['loss'], label='Training')\n",
    "plt.plot(history.history['val_loss'], label='Validation')\n",
    "plt.title('Model Loss')\n",
    "plt.xlabel('Epoch')\n",
    "plt.ylabel('Loss')\n",
    "plt.legend()\n",
    "\n",
    "plt.tight_layout()\n",
    "plt.show()\n",
    "\n",
    "# Convert to TFLite\n",
    "print('Converting to TFLite...')\n",
    "converter = tf.lite.TFLiteConverter.from_keras_model(model)\n",
    "converter.optimizations = [tf.lite.Optimize.DEFAULT]\n",
    "tflite_model = converter.convert()\n",
    "\n",
    "# Save model\n",
    "model_filename = 'puviyan_soil_model.tflite'\n",
    "with open(model_filename, 'wb') as f:\n",
    "    f.write(tflite_model)\n",
    "\n",
    "print(f'Model saved as {model_filename}')\n",
    "print(f'Model size: {len(tflite_model) / 1024:.1f} KB')\n",
    "\n",
    "# Download the model\n",
    "files.download(model_filename)\n",
    "print('Model download started!')"
   ]
  }
 ],
 "metadata": {
  "colab": {
   "provenance": [],
   "gpuType": "T4"
  },
  "kernelspec": {
   "display_name": "Python 3",
   "name": "python3"
  },
  "language_info": {
   "name": "python"
  },
  "accelerator": "GPU"
 },
 "nbformat": 4,
 "nbformat_minor": 0
}
